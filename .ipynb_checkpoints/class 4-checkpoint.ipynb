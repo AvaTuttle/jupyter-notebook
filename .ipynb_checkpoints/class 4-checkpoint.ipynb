{
 "cells": [
  {
   "cell_type": "markdown",
   "id": "0ddfcc19-94c7-4bce-9cb9-97fce0b6bf54",
   "metadata": {},
   "source": [
    "# Introduction to recursive functions\n",
    "\n",
    "A recursive function that calls itself at least once during execution.\n",
    "\n",
    "The exit condition ina recursive function is typically referred to as the \"base case\" and it repreeeents a condition we know (for a fact) to be true\n",
    "\n",
    "When the function calls itself we can refer to this as the \"recursive funtion\""
   ]
  },
  {
   "cell_type": "code",
   "execution_count": 2,
   "id": "f403aee1-c4ff-4359-8906-9cc8a4eb1d33",
   "metadata": {},
   "outputs": [],
   "source": [
    "#looping takes more processing power \n",
    "#Recursive takes more memory"
   ]
  },
  {
   "cell_type": "code",
   "execution_count": 13,
   "id": "0bb651ad-417c-464a-9672-7810c079c928",
   "metadata": {},
   "outputs": [
    {
     "data": {
      "text/plain": [
       "1"
      ]
     },
     "execution_count": 13,
     "metadata": {},
     "output_type": "execute_result"
    }
   ],
   "source": [
    "#A simple example of recursive functions\n",
    "\n",
    "# The factorial of an integer N is N! = N*(N-1)!\n",
    "\n",
    "#For example the factial if 5, which is represented as 5!=5*4! which can be evaluaded as 5!-5*4*3*2*1\n",
    "\n",
    "def factorial(n):\n",
    "    # As a mathmatical convention, the factorial of 0 is equal to 1\n",
    "    if n < 1:                  # base case or exit condition\n",
    "        return 1\n",
    "    return n*factorial(n-1)    # recursive casae or ce\\cursive condition\n",
    "    \n",
    "factorial(0)"
   ]
  },
  {
   "cell_type": "code",
   "execution_count": 47,
   "id": "6a27b2fb-738a-4280-97a3-2e3f035bb0af",
   "metadata": {},
   "outputs": [
    {
     "data": {
      "text/plain": [
       "43466557686937456435688527675040625802564660517371780402481729089536555417949051890403879840079255169295922593080322634775209689623239873322471161642996440906533187938298969649928516003704476137795166849228875"
      ]
     },
     "execution_count": 47,
     "metadata": {},
     "output_type": "execute_result"
    }
   ],
   "source": [
    "# Challenges wit hrecursion\n",
    "\n",
    "# The Fibonacci sequence\n",
    "\n",
    "#F0 = 0\n",
    "#F1 = 1\n",
    "\n",
    "#Example: 0,1,1,2,3,5,8,13,21\n",
    "#adds the previous thwo numbers together\n",
    "\n",
    "# fn = f(n-1) + f(n-2)\n",
    "\n",
    "#What if I wanted to know F(30)?\n",
    "\n",
    "#Sub-optimal recursive function\n",
    "#    def fibonacci(n):\n",
    "#        if n < 2:\n",
    "#            return n\n",
    "#        return fibonacci(n-1) + fibonacci(n-2)\n",
    "#    \n",
    "#    fibonacci(39)\n",
    "\n",
    "#temporary fix\n",
    "from functools import lru_cache\n",
    "\n",
    "@lru_cache\n",
    "def fibonacci(n):\n",
    "    if n < 2:\n",
    "        return n\n",
    "    return fibonacci(n-1) + fibonacci(n-2)\n",
    "\n",
    "fibonacci(1000)\n"
   ]
  },
  {
   "cell_type": "code",
   "execution_count": 72,
   "id": "d70e0236-7346-4ecf-9268-dadbc62548be",
   "metadata": {},
   "outputs": [
    {
     "data": {
      "text/plain": [
       "33644764876431783266621612005107543310302148460680063906564769974680081442166662368155595513633734025582065332680836159373734790483865268263040892463056431887354544369559827491606602099884183933864652731300088830269235673613135117579297437854413752130520504347701602264758318906527890855154366159582987279682987510631200575428783453215515103870818298969791613127856265033195487140214287532698187962046936097879900350962302291026368131493195275630227837628441540360584402572114334961180023091208287046088923962328835461505776583271252546093591128203925285393434620904245248929403901706233888991085841065183173360437470737908552631764325733993712871937587746897479926305837065742830161637408969178426378624212835258112820516370298089332099905707920064367426202389783111470054074998459250360633560933883831923386783056136435351892133279732908133732642652633989763922723407882928177953580570993691049175470808931841056146322338217465637321248226383092103297701648054726243842374862411453093812206564914032751086643394517512161526545361333111314042436854805106765843493523836959653428071768775328348234345557366719731392746273629108210679280784718035329131176778924659089938635459327894523777674406192240337638674004021330343297496902028328145933418826817683893072003634795623117103101291953169794607632737589253530772552375943788434504067715555779056450443016640119462580972216729758615026968443146952034614932291105970676243268515992834709891284706740862008587135016260312071903172086094081298321581077282076353186624611278245537208532365305775956430072517744315051539600905168603220349163222640885248852433158051534849622434848299380905070483482449327453732624567755879089187190803662058009594743150052402532709746995318770724376825907419939632265984147498193609285223945039707165443156421328157688908058783183404917434556270520223564846495196112460268313970975069382648706613264507665074611512677522748621598642530711298441182622661057163515069260029861704945425047491378115154139941550671256271197133252763631939606902895650288268608362241082050562430701794976171121233066073310059947366875"
      ]
     },
     "execution_count": 72,
     "metadata": {},
     "output_type": "execute_result"
    }
   ],
   "source": [
    "#Loads all of the values specified into memory\n",
    "for number in range(0, 10000):\n",
    "    fibonacci(number)\n",
    "\n",
    "fibonacci(10000)"
   ]
  },
  {
   "cell_type": "code",
   "execution_count": 84,
   "id": "178f6334-9126-4716-a37f-e06015e8507f",
   "metadata": {},
   "outputs": [
    {
     "data": {
      "text/plain": [
       "10946"
      ]
     },
     "execution_count": 84,
     "metadata": {},
     "output_type": "execute_result"
    }
   ],
   "source": [
    "#replacing lru_cache with built in dictionary\n",
    "\n",
    "solutions = dict()\n",
    "\n",
    "def fib(n):\n",
    "    if n in solutions.keys():\n",
    "        return solutions[n]\n",
    "    if n < 2:\n",
    "        return n\n",
    "    solutions[n] = fib(n-1) + fib(n-2)\n",
    "    return fib(n)\n",
    "\n",
    "fib(21)"
   ]
  },
  {
   "cell_type": "markdown",
   "id": "195a6d9c-fba4-4438-af49-33ebe83952d2",
   "metadata": {},
   "source": [
    "# Balanced parenthesis check\n",
    "\n",
    "Givben a string consisting soley of the set of characters in { \"(\",\"[\",\"{\", \"}\", \"]\",\")\"} determine if the string is balanced.\n",
    "Your function \"balance_check\" should return True if the string is balanced, and False if otherwise.\n",
    "\n",
    "## Criteria\n",
    "A string is balanced if all parentheses/brackets/braces close in the same order the were opened\n",
    "\n",
    "### Examples\n",
    "\n",
    "Balanced: ((({{{[[[]]]}}})))\n",
    "Balanced: ()()()[[[]]]\n",
    "Not Balanced: (((([))))\n",
    "Not Balanced: ()()()[[[{}{}{}]]]"
   ]
  },
  {
   "cell_type": "markdown",
   "id": "fc690522-a74a-4865-b987-4325f0252f12",
   "metadata": {},
   "source": [
    "define function \"balance_check\"\n",
    "\n",
    "    initialize a stack to track opening brackets\n",
    "\n",
    "    loop thru each character in the string\n",
    "    if character is an opening bracket, push it to the stack\n",
    "        else \n",
    "            return false\n",
    "    if not, check if character is a closing bracket\n",
    "        if it is a closing bracket, check if the stack is empty\n",
    "            if empty, return false\n",
    "            if not empty, check if the closing bracket corresponds with the opening bracket\n",
    "            if it does not correspond with the opening bracket\n",
    "                return false\n",
    "            else\n",
    "                return true\n",
    "        \n",
    "    "
   ]
  },
  {
   "cell_type": "code",
   "execution_count": 86,
   "id": "0bd2f8be-bc28-4b7b-8089-23953282054c",
   "metadata": {},
   "outputs": [
    {
     "name": "stdout",
     "output_type": "stream",
     "text": [
      "0\n"
     ]
    }
   ],
   "source": [
    "mystring = \"123456\"\n",
    "\n",
    "print(len(mystring)%2)"
   ]
  },
  {
   "cell_type": "code",
   "execution_count": 1,
   "id": "81764c0b-2ef8-4de7-ac72-fd9a3b0ab42c",
   "metadata": {},
   "outputs": [],
   "source": [
    "# 1. Keep track of all possible combinations that are valid\n",
    "# 2. Keep track of all valid characters in this space\n",
    "# 2.1. Create a set of opening parentheses; in python we could do this: opening = set(\"{([\")\n",
    "# 3. Check the length if the string, and if it contains an odd number of characters, return false\n",
    "# 4. Otherwise, we are going to loop over thhe recieved string\n",
    "# 4.1. As we loop, retrieve the next character in the string, begginning wiht the 0th character initially\n",
    "# 5. Every time we loop, we check if the character is part if the :opening set\"\n",
    "# 5.1. If it is, add that character to the stack(push)\n",
    "# 5.2. if it isn't, pop the top character from the stack and compare the combination to the collection of valid combination\n",
    "# 5.2.1. If the combination does not exist on our collection, return Fal;se\n",
    "# 6. After looping through the entire string, if the stack is not empty, return False, otherwise, return True"
   ]
  },
  {
   "cell_type": "code",
   "execution_count": 88,
   "id": "d7334e21-3742-42ec-a97d-dea4aa2d649b",
   "metadata": {},
   "outputs": [],
   "source": [
    "# Extra: Impliment (and validate) DoublyLinkedList"
   ]
  },
  {
   "cell_type": "code",
   "execution_count": 2,
   "id": "549081a3-3df0-4383-8aba-6d8f392bb16c",
   "metadata": {},
   "outputs": [],
   "source": [
    "#used some chat gpt to help steer me in the right direction\n",
    "\n",
    "def balance_check(s):\n",
    "    # Dictionary to map opening brackets to their corresponding closing brackets\n",
    "    bracket_map = {'(': ')', '[': ']', '{': '}'}\n",
    "    # Stack to keep track of opening brackets\n",
    "    stack = []\n",
    "    \n",
    "    # Loop through each character in the string\n",
    "    for char in s:\n",
    "        if char in bracket_map:  # If it's an opening bracket\n",
    "            stack.append(char)  # Push to stack\n",
    "        elif char in bracket_map.values():  # If it's a closing bracket\n",
    "            if not stack:  # If stack is empty, no opening bracket to match\n",
    "                return False\n",
    "            # Check if the closing bracket corresponds to the last opened bracket\n",
    "            if bracket_map[stack.pop()] != char:\n",
    "                return False\n",
    "    \n",
    "    # If the stack is not empty, there are unmatched opening brackets\n",
    "    return len(stack) == 0\n"
   ]
  },
  {
   "cell_type": "code",
   "execution_count": 5,
   "id": "c26cf872-66fb-4c27-af02-6d9c2757fbbc",
   "metadata": {},
   "outputs": [
    {
     "data": {
      "text/plain": [
       "True"
      ]
     },
     "execution_count": 5,
     "metadata": {},
     "output_type": "execute_result"
    }
   ],
   "source": [
    "balance_check(\"({{}})\")\n"
   ]
  },
  {
   "cell_type": "code",
   "execution_count": null,
   "id": "ce08eeee-29e1-4875-a629-29ff01c6f513",
   "metadata": {},
   "outputs": [],
   "source": []
  }
 ],
 "metadata": {
  "kernelspec": {
   "display_name": "Python 3 (ipykernel)",
   "language": "python",
   "name": "python3"
  },
  "language_info": {
   "codemirror_mode": {
    "name": "ipython",
    "version": 3
   },
   "file_extension": ".py",
   "mimetype": "text/x-python",
   "name": "python",
   "nbconvert_exporter": "python",
   "pygments_lexer": "ipython3",
   "version": "3.12.3"
  }
 },
 "nbformat": 4,
 "nbformat_minor": 5
}
