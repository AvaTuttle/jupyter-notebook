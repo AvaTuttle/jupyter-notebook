{
 "cells": [
  {
   "cell_type": "code",
   "execution_count": 4,
   "id": "97242d76-3209-4c16-b9a2-c3adb51c590d",
   "metadata": {},
   "outputs": [
    {
     "name": "stdout",
     "output_type": "stream",
     "text": [
      "h\n",
      "e\n",
      "l\n",
      "l\n",
      "o\n",
      ",\n",
      " \n",
      "w\n",
      "o\n",
      "r\n",
      "l\n",
      "d\n",
      "!\n"
     ]
    }
   ],
   "source": [
    "for char in \"hello, world!\":\n",
    "    print(char)"
   ]
  },
  {
   "cell_type": "markdown",
   "id": "7c12c94c-7c63-4489-8f86-a0eacfc4ea4a",
   "metadata": {},
   "source": [
    "# Problem 1\n",
    "\n",
    "## Anagram Check\n",
    "\n",
    "Given two strings, determine if these anagrams of each other. Your function should return True, if these are anagrams of each other, False otherwise.\n",
    "\n",
    "### Criteria\n",
    "Two strings are anagrams of each other, if *all* the criteria below are met:\n",
    "1. They must contain the same number of letters the same amount of times.\n",
    "2. They must be of equal length.\n",
    "\n",
    "```\n",
    "Examples:\n",
    "cars and scar\n",
    "star and rats\n",
    "earth and heart\n",
    "\n",
    "BUT ALSO:\n",
    "I am Lord Voldemort and Tom Marvolo Riddle\n",
    "```"
   ]
  },
  {
   "cell_type": "code",
   "execution_count": 5,
   "id": "570e7122-0504-411a-8149-aa4306043f1e",
   "metadata": {},
   "outputs": [],
   "source": [
    "# This is a poor solution to this problem:\n",
    "def anagram_check(str1, str2):\n",
    "    return sorted(str1) == sorted(str2)"
   ]
  },
  {
   "cell_type": "code",
   "execution_count": 6,
   "id": "5f7c4ae6-1940-40c4-89ed-915f06987d93",
   "metadata": {},
   "outputs": [
    {
     "data": {
      "text/plain": [
       "True"
      ]
     },
     "execution_count": 6,
     "metadata": {},
     "output_type": "execute_result"
    }
   ],
   "source": [
    "anagram_check (\"cars\", \"scar\")"
   ]
  },
  {
   "cell_type": "code",
   "execution_count": 1,
   "id": "f5fec012-1dc3-4f9e-a242-2a607d7c5651",
   "metadata": {},
   "outputs": [],
   "source": [
    "def anagram_check(str1, str2):\n",
    "    result1 = str1.lower().strip().replace(\" \",\"\")\n",
    "    result2 = str2.lower().strip().replace(\" \",\"\")\n",
    "    return sorted(str1) == sorted(str2)"
   ]
  },
  {
   "cell_type": "code",
   "execution_count": 2,
   "id": "458a16f6-9cc9-4d9d-8e86-1e43e6ea6894",
   "metadata": {},
   "outputs": [
    {
     "ename": "NameError",
     "evalue": "name 'anagram_correct' is not defined",
     "output_type": "error",
     "traceback": [
      "\u001b[0;31m---------------------------------------------------------------------------\u001b[0m",
      "\u001b[0;31mNameError\u001b[0m                                 Traceback (most recent call last)",
      "Cell \u001b[0;32mIn[2], line 1\u001b[0m\n\u001b[0;32m----> 1\u001b[0m \u001b[43managram_correct\u001b[49m(\u001b[38;5;124m\"\u001b[39m\u001b[38;5;124mI am Lord Voldemort\u001b[39m\u001b[38;5;124m\"\u001b[39m, \u001b[38;5;124m\"\u001b[39m\u001b[38;5;124mTom Marvolo Riddle\u001b[39m\u001b[38;5;124m\"\u001b[39m)\n",
      "\u001b[0;31mNameError\u001b[0m: name 'anagram_correct' is not defined"
     ]
    }
   ],
   "source": [
    "anagram_correct(\"I am Lord Voldemort\", \"Tom Marvolo Riddle\")\n"
   ]
  },
  {
   "cell_type": "code",
   "execution_count": 3,
   "id": "069ed73f-b762-40ae-93a4-70fa5ddae353",
   "metadata": {},
   "outputs": [
    {
     "data": {
      "text/plain": [
       "False"
      ]
     },
     "execution_count": 3,
     "metadata": {},
     "output_type": "execute_result"
    }
   ],
   "source": [
    "anagram_check(\"I am Lord Voldemort\", \"Tom Marvolo Riddle\")"
   ]
  },
  {
   "cell_type": "code",
   "execution_count": 4,
   "id": "a54a188c-8783-4a16-91cb-c77e0ec340ea",
   "metadata": {},
   "outputs": [
    {
     "data": {
      "text/plain": [
       "True"
      ]
     },
     "execution_count": 4,
     "metadata": {},
     "output_type": "execute_result"
    }
   ],
   "source": [
    "anagram_check(\"heart\", \"earth\")"
   ]
  },
  {
   "cell_type": "code",
   "execution_count": 5,
   "id": "1d7ae50c-3c5b-4cf0-966e-bbcf241c36bc",
   "metadata": {},
   "outputs": [],
   "source": [
    "def anagram_check(str1, str2):\n",
    "    result1 = str1.lower().strip().replace(\" \",\"\")\n",
    "    result2 = str2.lower().strip().replace(\" \",\"\")\n",
    "    return sorted(result1) == sorted(result2)"
   ]
  },
  {
   "cell_type": "code",
   "execution_count": 6,
   "id": "674c5b31-6234-4726-9d65-eff3eae7b2a7",
   "metadata": {},
   "outputs": [
    {
     "data": {
      "text/plain": [
       "True"
      ]
     },
     "execution_count": 6,
     "metadata": {},
     "output_type": "execute_result"
    }
   ],
   "source": [
    "anagram_check(\"I am Lord Voldemort\", \"Tom Marvolo Riddle\")\n"
   ]
  },
  {
   "cell_type": "code",
   "execution_count": 7,
   "id": "fc6c5b97-821b-41be-ac7d-4f7539cd2c27",
   "metadata": {},
   "outputs": [],
   "source": [
    "# define funtion anagram check with perameters: (str) string1 and (str)string2\n",
    "# string1 = string1 in lower case without spaces\n",
    "# string2 = string2 in lower case without spaces\n",
    "#if hte lenggtgh if string1 is not equal to the length of string2:\n",
    "#    return False\n",
    "#otherwise: \n",
    "#    dictionary1 = new dict\n",
    "#    dictionary2 - new dict\n",
    "#    for each \"number\" in the range from 0 to the length of string1:\n",
    "#        if the character at position  number in string1 is not in dictionary1:\n",
    "#            create a new entry for that character in dictionary1, and set the value to 1\n",
    "#        otherwise:\n",
    "#            add 1 to the value associated with that character in dictionary1\n",
    "#        if the character at position  number in string1 is not in dictionary2:\n",
    "#            create a new entry for that character in dictionary2, and set the value to 1\n",
    "#        otherwise:\n",
    "#            add 1 to the value associated with that character in dictionary2\n",
    "#        if dictionary1 is not equal to dictionary2:\n",
    "#            retrurn False\n",
    "#        otherwise:\n",
    "#            return True"
   ]
  },
  {
   "cell_type": "code",
   "execution_count": 8,
   "id": "d4eea530-9f9a-4d57-80a1-94a151a8ec7a",
   "metadata": {},
   "outputs": [
    {
     "ename": "IndentationError",
     "evalue": "unexpected indent (1445527603.py, line 4)",
     "output_type": "error",
     "traceback": [
      "\u001b[0;36m  Cell \u001b[0;32mIn[8], line 4\u001b[0;36m\u001b[0m\n\u001b[0;31m    if len(str1) != len(str2):\u001b[0m\n\u001b[0m    ^\u001b[0m\n\u001b[0;31mIndentationError\u001b[0m\u001b[0;31m:\u001b[0m unexpected indent\n"
     ]
    }
   ],
   "source": [
    "def anagram_check(str1,str2):\n",
    "    str1 = str1.replace(\" \",\"\").lower()\n",
    "    str2 = str2.replace(\" \",\"\").lower()\n",
    "     if len(str1) != len(str2):\n",
    "         return False\n",
    "    dict1 = {}\n",
    "    dict2 = {}\n",
    "for  index in range(len(str1)):"
   ]
  },
  {
   "cell_type": "code",
   "execution_count": 10,
   "id": "5eeff5ac-4bf7-4f00-9c1d-34e34d1c1645",
   "metadata": {},
   "outputs": [
    {
     "ename": "IndentationError",
     "evalue": "unexpected indent (3177790099.py, line 4)",
     "output_type": "error",
     "traceback": [
      "\u001b[0;36m  Cell \u001b[0;32mIn[10], line 4\u001b[0;36m\u001b[0m\n\u001b[0;31m    if len(str1) != len(str2):\u001b[0m\n\u001b[0m    ^\u001b[0m\n\u001b[0;31mIndentationError\u001b[0m\u001b[0;31m:\u001b[0m unexpected indent\n"
     ]
    }
   ],
   "source": [
    "def anagram_check(str1,str2):\n",
    "    str1 = str1.replace(\" \",\"\").lower()\n",
    "    str2 = str2.replace(\" \",\"\").lower()\n",
    "    if len(str1) != len(str2):\n",
    "         return False\n",
    "    dict1 = {}\n",
    "    dict2 = {}\n",
    "    for  index in range(len(str1)):\n",
    "        if str1[index] not in dict1.keys\n",
    "            dict1[str1[inxdex]] = 1\n",
    "        else: dict1[str1[inxdex]] += 1\n",
    "         if str2[index] not in dict2.keys\n",
    "            dict2[str2[inxdex]] = 1\n",
    "        else: dict2[str2[inxdex]] += 1\n",
    "    return dict1 == dict2"
   ]
  },
  {
   "cell_type": "code",
   "execution_count": null,
   "id": "f78fc6c3-6372-421e-87a6-dbfa041d45ea",
   "metadata": {},
   "outputs": [],
   "source": []
  }
 ],
 "metadata": {
  "kernelspec": {
   "display_name": "Python 3 (ipykernel)",
   "language": "python",
   "name": "python3"
  },
  "language_info": {
   "codemirror_mode": {
    "name": "ipython",
    "version": 3
   },
   "file_extension": ".py",
   "mimetype": "text/x-python",
   "name": "python",
   "nbconvert_exporter": "python",
   "pygments_lexer": "ipython3",
   "version": "3.12.3"
  }
 },
 "nbformat": 4,
 "nbformat_minor": 5
}
